{
 "cells": [
  {
   "cell_type": "code",
   "execution_count": 2,
   "id": "f31ddfa7",
   "metadata": {},
   "outputs": [],
   "source": [
    "import pandas as pd "
   ]
  },
  {
   "cell_type": "code",
   "execution_count": 9,
   "id": "5de5567e",
   "metadata": {},
   "outputs": [
    {
     "data": {
      "text/plain": [
       "0        \n",
       "1        \n",
       "2        \n",
       "3        \n",
       "4        \n",
       "       ..\n",
       "1994    0\n",
       "1995    0\n",
       "1996    0\n",
       "1997    0\n",
       "1998    0\n",
       "Name: Risk-Free Rate, Length: 1999, dtype: object"
      ]
     },
     "execution_count": 9,
     "metadata": {},
     "output_type": "execute_result"
    }
   ],
   "source": [
    "options_data = pd.read_excel(\"C:/Users/AryanBhatla/OneDrive - Apostle Funds Management/Desktop/ACCF PM Model copy.xlsx\",\n",
    "                             sheet_name = 'Security Data')\n",
    "options_data.head(20)\n",
    "options_data['Risk-Free Rate']"
   ]
  },
  {
   "cell_type": "code",
   "execution_count": null,
   "id": "6fe9fde6",
   "metadata": {},
   "outputs": [],
   "source": []
  }
 ],
 "metadata": {
  "kernelspec": {
   "display_name": "Python 3",
   "language": "python",
   "name": "python3"
  },
  "language_info": {
   "codemirror_mode": {
    "name": "ipython",
    "version": 3
   },
   "file_extension": ".py",
   "mimetype": "text/x-python",
   "name": "python",
   "nbconvert_exporter": "python",
   "pygments_lexer": "ipython3",
   "version": "3.13.7"
  }
 },
 "nbformat": 4,
 "nbformat_minor": 5
}
